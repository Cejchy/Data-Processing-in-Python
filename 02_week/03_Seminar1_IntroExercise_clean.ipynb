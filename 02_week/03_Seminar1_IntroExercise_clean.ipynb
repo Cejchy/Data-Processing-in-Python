{
 "cells": [
  {
   "cell_type": "markdown",
   "metadata": {},
   "source": [
    "# Seminar 1: Python Basics\n",
    "\n",
    "February 25, 2025\n",
    "- Vilém Krejcar\n",
    "\n",
    "______________________________"
   ]
  },
  {
   "cell_type": "markdown",
   "metadata": {},
   "source": [
    "## Recap and Introduction"
   ]
  },
  {
   "cell_type": "markdown",
   "metadata": {},
   "source": [
    "### HW: Deadline for HW1 set to March 3, 2025 (next Monday)\n",
    "- __Please submit the screenshots with your nickname highlighted__\n",
    "\n",
    "\n",
    "----------------"
   ]
  },
  {
   "cell_type": "markdown",
   "metadata": {},
   "source": [
    "### Any questions to first two lectures or course organization?\n",
    "_______________________________________________"
   ]
  },
  {
   "cell_type": "markdown",
   "metadata": {},
   "source": [
    "### Jupyter notebooks (again)\n",
    "\n",
    "- Files with cells\n",
    "  - Code - python (in our case; `1+1`)\n",
    "  - Markdown (comments and text, also math (LaTeX, for example $\\sum_i a_i$))\n",
    "- You can open them in:\n",
    "  - Jupyter notebooks (e.g. Ananconda (Win/mac))\n",
    "  - Jupyter Lab (e.g. Anaconda (Win/mac))\n",
    "  - VScode\n",
    "  - others"
   ]
  },
  {
   "cell_type": "markdown",
   "metadata": {},
   "source": [
    "### Recap: help\n",
    "\n",
    "- google, stackoverflow, peers, friends..."
   ]
  },
  {
   "cell_type": "code",
   "execution_count": null,
   "metadata": {},
   "outputs": [],
   "source": [
    "# Different way"
   ]
  },
  {
   "cell_type": "code",
   "execution_count": null,
   "metadata": {},
   "outputs": [],
   "source": []
  },
  {
   "cell_type": "code",
   "execution_count": null,
   "metadata": {},
   "outputs": [],
   "source": []
  },
  {
   "cell_type": "code",
   "execution_count": null,
   "metadata": {},
   "outputs": [],
   "source": []
  },
  {
   "cell_type": "code",
   "execution_count": null,
   "metadata": {},
   "outputs": [],
   "source": [
    "# !pwd # different way to print working directory"
   ]
  },
  {
   "cell_type": "code",
   "execution_count": null,
   "metadata": {},
   "outputs": [],
   "source": [
    "# %pwd # print working directory in jupyter notebook\n"
   ]
  },
  {
   "cell_type": "markdown",
   "metadata": {},
   "source": [
    "### Recap: file IO\n",
    "\n",
    "- We can load many thing (data - text, numbers, images, video, etc...) to our programmes."
   ]
  },
  {
   "cell_type": "code",
   "execution_count": null,
   "metadata": {},
   "outputs": [],
   "source": [
    "# Built-in function open() is used to open a file and return a corresponding file object.\n",
    "# The open() function takes two parameters; filename, and mode.\n",
    "# There are four different methods (modes) for opening a file: \"r\", \"a\", \"w\", \"x\"\n",
    "# \"r\" - Read - Default value. Opens a file for reading, error if the file does not exist\n",
    "# \"a\" - Append - Opens a file for appending, creates the file if it does not exist\n",
    "# \"w\" - Write - Opens a file for writing, creates the file if it does not exist\n",
    "# \"x\" -  for creating and writing to a new file"
   ]
  },
  {
   "cell_type": "code",
   "execution_count": null,
   "metadata": {},
   "outputs": [],
   "source": []
  },
  {
   "cell_type": "code",
   "execution_count": null,
   "metadata": {},
   "outputs": [],
   "source": []
  },
  {
   "cell_type": "markdown",
   "metadata": {},
   "source": [
    "#### Import packages"
   ]
  },
  {
   "cell_type": "code",
   "execution_count": null,
   "metadata": {},
   "outputs": [],
   "source": []
  },
  {
   "cell_type": "markdown",
   "metadata": {},
   "source": [
    "Import own functions and modules"
   ]
  },
  {
   "cell_type": "code",
   "execution_count": null,
   "metadata": {},
   "outputs": [],
   "source": []
  },
  {
   "cell_type": "code",
   "execution_count": null,
   "metadata": {},
   "outputs": [],
   "source": []
  },
  {
   "cell_type": "code",
   "execution_count": null,
   "metadata": {},
   "outputs": [],
   "source": []
  },
  {
   "cell_type": "code",
   "execution_count": null,
   "metadata": {},
   "outputs": [],
   "source": []
  },
  {
   "cell_type": "code",
   "execution_count": null,
   "metadata": {},
   "outputs": [],
   "source": []
  },
  {
   "cell_type": "markdown",
   "metadata": {},
   "source": [
    "## Exercise 1 (sorting)"
   ]
  },
  {
   "cell_type": "markdown",
   "metadata": {},
   "source": [
    "In this example, sort the array of variables."
   ]
  },
  {
   "cell_type": "code",
   "execution_count": null,
   "metadata": {},
   "outputs": [],
   "source": [
    "# [46, 44, 97, 18, 12, 46, 45, 19, 29, 25, 23, 80, 5, 89, 64]"
   ]
  },
  {
   "cell_type": "code",
   "execution_count": null,
   "metadata": {},
   "outputs": [],
   "source": []
  },
  {
   "cell_type": "code",
   "execution_count": null,
   "metadata": {},
   "outputs": [],
   "source": []
  },
  {
   "cell_type": "code",
   "execution_count": null,
   "metadata": {},
   "outputs": [],
   "source": []
  },
  {
   "cell_type": "code",
   "execution_count": null,
   "metadata": {},
   "outputs": [],
   "source": []
  },
  {
   "cell_type": "code",
   "execution_count": null,
   "metadata": {},
   "outputs": [],
   "source": []
  },
  {
   "cell_type": "code",
   "execution_count": null,
   "metadata": {},
   "outputs": [],
   "source": []
  },
  {
   "cell_type": "code",
   "execution_count": null,
   "metadata": {},
   "outputs": [],
   "source": []
  },
  {
   "cell_type": "code",
   "execution_count": null,
   "metadata": {},
   "outputs": [],
   "source": []
  },
  {
   "cell_type": "code",
   "execution_count": null,
   "metadata": {},
   "outputs": [],
   "source": []
  },
  {
   "cell_type": "code",
   "execution_count": null,
   "metadata": {},
   "outputs": [],
   "source": []
  },
  {
   "cell_type": "markdown",
   "metadata": {},
   "source": [
    "## Exercise 2 (loops)"
   ]
  },
  {
   "cell_type": "markdown",
   "metadata": {},
   "source": [
    "Write a loop which will add `\"_adj\"` to the each element of the list:\n",
    "`[\"close\", \"open\", \"high\", \"high\"]`"
   ]
  },
  {
   "cell_type": "code",
   "execution_count": 4,
   "metadata": {},
   "outputs": [
    {
     "name": "stdout",
     "output_type": "stream",
     "text": [
      "close_adj\n",
      "open_adj\n",
      "high_adj\n",
      "high_adj\n"
     ]
    }
   ],
   "source": [
    "my_list = ['close', 'open', 'high', 'high']\n",
    "\n",
    "for text in my_list:\n",
    "    text = text + '_adj'\n",
    "    print(text)"
   ]
  },
  {
   "cell_type": "code",
   "execution_count": null,
   "metadata": {},
   "outputs": [],
   "source": [
    "  "
   ]
  },
  {
   "cell_type": "markdown",
   "metadata": {},
   "source": [
    "Do the same but write all of the code in one line (list comprehension)."
   ]
  },
  {
   "cell_type": "code",
   "execution_count": 5,
   "metadata": {},
   "outputs": [
    {
     "data": {
      "text/plain": [
       "['close_adj', 'open_adj', 'high_adj', 'high_adj']"
      ]
     },
     "execution_count": 5,
     "metadata": {},
     "output_type": "execute_result"
    }
   ],
   "source": [
    "[i + '_adj' for i in my_list]"
   ]
  },
  {
   "cell_type": "code",
   "execution_count": null,
   "metadata": {},
   "outputs": [],
   "source": []
  },
  {
   "cell_type": "code",
   "execution_count": null,
   "metadata": {},
   "outputs": [],
   "source": []
  },
  {
   "cell_type": "markdown",
   "metadata": {},
   "source": [
    "## Exercise 3\n",
    "\n",
    "Write a function which will sum up all values in the list"
   ]
  },
  {
   "cell_type": "markdown",
   "metadata": {},
   "source": [
    "#### a. For the case when input is list of integers."
   ]
  },
  {
   "cell_type": "code",
   "execution_count": 10,
   "metadata": {},
   "outputs": [
    {
     "data": {
      "text/plain": [
       "14"
      ]
     },
     "execution_count": 10,
     "metadata": {},
     "output_type": "execute_result"
    }
   ],
   "source": [
    "def summator(list):\n",
    "    sum = 0\n",
    "    for num in list:\n",
    "        sum += num\n",
    "    return(sum)\n",
    "\n",
    "mylist = [1,2,5,6]\n",
    "summator(mylist)"
   ]
  },
  {
   "cell_type": "code",
   "execution_count": 11,
   "metadata": {},
   "outputs": [
    {
     "data": {
      "text/plain": [
       "14"
      ]
     },
     "execution_count": 11,
     "metadata": {},
     "output_type": "execute_result"
    }
   ],
   "source": [
    "def mojesuma(list):\n",
    "    number = sum(list)\n",
    "    return(number)\n",
    "\n",
    "mojesuma(mylist)"
   ]
  },
  {
   "cell_type": "code",
   "execution_count": null,
   "metadata": {},
   "outputs": [],
   "source": []
  },
  {
   "cell_type": "markdown",
   "metadata": {},
   "source": [
    "#### b. What will be if the input is list of strings?"
   ]
  },
  {
   "cell_type": "code",
   "execution_count": 14,
   "metadata": {},
   "outputs": [],
   "source": [
    "charlist = ['0', 'a', '1', 'bb', 'ccc', '5', '8', '13']"
   ]
  },
  {
   "cell_type": "code",
   "execution_count": 13,
   "metadata": {},
   "outputs": [
    {
     "ename": "TypeError",
     "evalue": "unsupported operand type(s) for +=: 'int' and 'str'",
     "output_type": "error",
     "traceback": [
      "\u001b[1;31m---------------------------------------------------------------------------\u001b[0m",
      "\u001b[1;31mTypeError\u001b[0m                                 Traceback (most recent call last)",
      "Cell \u001b[1;32mIn[13], line 1\u001b[0m\n\u001b[1;32m----> 1\u001b[0m summator(charlist)\n",
      "Cell \u001b[1;32mIn[10], line 4\u001b[0m, in \u001b[0;36msummator\u001b[1;34m(list)\u001b[0m\n\u001b[0;32m      2\u001b[0m \u001b[38;5;28msum\u001b[39m \u001b[38;5;241m=\u001b[39m \u001b[38;5;241m0\u001b[39m\n\u001b[0;32m      3\u001b[0m \u001b[38;5;28;01mfor\u001b[39;00m num \u001b[38;5;129;01min\u001b[39;00m \u001b[38;5;28mlist\u001b[39m:\n\u001b[1;32m----> 4\u001b[0m     \u001b[38;5;28msum\u001b[39m \u001b[38;5;241m+\u001b[39m\u001b[38;5;241m=\u001b[39m num\n\u001b[0;32m      5\u001b[0m \u001b[38;5;28;01mreturn\u001b[39;00m(\u001b[38;5;28msum\u001b[39m)\n",
      "\u001b[1;31mTypeError\u001b[0m: unsupported operand type(s) for +=: 'int' and 'str'"
     ]
    }
   ],
   "source": [
    "summator(charlist)"
   ]
  },
  {
   "cell_type": "code",
   "execution_count": null,
   "metadata": {},
   "outputs": [],
   "source": [
    "# change the function in order to avoid error and get the answer: '0a1bbccc5813'"
   ]
  },
  {
   "cell_type": "code",
   "execution_count": 15,
   "metadata": {},
   "outputs": [
    {
     "data": {
      "text/plain": [
       "'0a1bbccc5813'"
      ]
     },
     "execution_count": 15,
     "metadata": {},
     "output_type": "execute_result"
    }
   ],
   "source": [
    "def lepsi(list):\n",
    "    vysl = \"\"\n",
    "    for v in list:\n",
    "        vysl += v\n",
    "    return(vysl)\n",
    "\n",
    "lepsi(charlist)"
   ]
  },
  {
   "cell_type": "code",
   "execution_count": null,
   "metadata": {},
   "outputs": [],
   "source": []
  },
  {
   "cell_type": "markdown",
   "metadata": {},
   "source": [
    "#### c. Rewrite the function sum_up in the way, that we will get a message 'can not sum it up' if the summation can't be performed"
   ]
  },
  {
   "cell_type": "code",
   "execution_count": 21,
   "metadata": {},
   "outputs": [
    {
     "name": "stdout",
     "output_type": "stream",
     "text": [
      "Cannot do the summation\n"
     ]
    }
   ],
   "source": [
    "mylist = [1,2,5,2]\n",
    "def nova(list):\n",
    "    suma = 0\n",
    "    if all(isinstance(item,int) for item in list):\n",
    "        suma = sum(list)\n",
    "        return(suma)\n",
    "    else:\n",
    "        print('Cannot do the summation')\n",
    "        return None\n",
    "\n",
    "nova(charlist)"
   ]
  },
  {
   "cell_type": "code",
   "execution_count": 27,
   "metadata": {},
   "outputs": [
    {
     "name": "stdout",
     "output_type": "stream",
     "text": [
      "Jsi kokot?\n"
     ]
    }
   ],
   "source": [
    "def jinaci(list):\n",
    "    vysl = 0\n",
    "    try:\n",
    "        for num in list:\n",
    "            vysl += num\n",
    "        return(vysl)\n",
    "    except Exception as e:\n",
    "        print(f'Jsi kokot?')\n",
    "        return None\n",
    "    \n",
    "jinaci(charlist)"
   ]
  },
  {
   "cell_type": "code",
   "execution_count": null,
   "metadata": {},
   "outputs": [],
   "source": [
    "# Return nothing if the summation can not be performed"
   ]
  },
  {
   "cell_type": "code",
   "execution_count": null,
   "metadata": {},
   "outputs": [],
   "source": [
    "def jainaci(list):\n",
    "    vysl = 0\n",
    "    try:\n",
    "        for num in list:\n",
    "            vysl += num\n",
    "        return(vysl)\n",
    "    except Exception as e:\n",
    "        return None\n",
    "    \n",
    "jainaci(mylist)"
   ]
  },
  {
   "cell_type": "code",
   "execution_count": null,
   "metadata": {},
   "outputs": [],
   "source": []
  },
  {
   "cell_type": "markdown",
   "metadata": {},
   "source": [
    "#### d. Why do we need to write the exceptions?"
   ]
  },
  {
   "cell_type": "code",
   "execution_count": null,
   "metadata": {},
   "outputs": [],
   "source": []
  },
  {
   "cell_type": "code",
   "execution_count": null,
   "metadata": {},
   "outputs": [],
   "source": []
  },
  {
   "cell_type": "markdown",
   "metadata": {},
   "source": [
    "## Exercise (dictionaries)"
   ]
  },
  {
   "cell_type": "markdown",
   "metadata": {},
   "source": [
    "In this task we will work with the dictionary:"
   ]
  },
  {
   "cell_type": "code",
   "execution_count": 54,
   "metadata": {},
   "outputs": [],
   "source": [
    "dic_food = {'apple': 5, 'orange' : 4, 'onion' : 9}"
   ]
  },
  {
   "cell_type": "markdown",
   "metadata": {},
   "source": [
    "#### a. Calculate how many products in total do we have. How many fruits?"
   ]
  },
  {
   "cell_type": "code",
   "execution_count": 38,
   "metadata": {},
   "outputs": [
    {
     "data": {
      "text/plain": [
       "18"
      ]
     },
     "execution_count": 38,
     "metadata": {},
     "output_type": "execute_result"
    }
   ],
   "source": [
    "sum(dic_food.values())"
   ]
  },
  {
   "cell_type": "code",
   "execution_count": 39,
   "metadata": {},
   "outputs": [
    {
     "data": {
      "text/plain": [
       "18"
      ]
     },
     "execution_count": 39,
     "metadata": {},
     "output_type": "execute_result"
    }
   ],
   "source": [
    "sum(v for v in dic_food.values())"
   ]
  },
  {
   "cell_type": "code",
   "execution_count": 53,
   "metadata": {},
   "outputs": [
    {
     "data": {
      "text/plain": [
       "6"
      ]
     },
     "execution_count": 53,
     "metadata": {},
     "output_type": "execute_result"
    }
   ],
   "source": [
    "# how many fruits do we have in our dictionary\n",
    "fruits = ['apple','orange']\n",
    "sum ([value for key,value in dic_food.items() if key not in fruits])"
   ]
  },
  {
   "cell_type": "markdown",
   "metadata": {},
   "source": [
    "#### b. Add one more apple and change the numbers of onions to 1"
   ]
  },
  {
   "cell_type": "code",
   "execution_count": 55,
   "metadata": {},
   "outputs": [
    {
     "data": {
      "text/plain": [
       "6"
      ]
     },
     "execution_count": 55,
     "metadata": {},
     "output_type": "execute_result"
    }
   ],
   "source": [
    "dic_food['apple'] += 1\n",
    "dic_food['apple']"
   ]
  },
  {
   "cell_type": "code",
   "execution_count": 56,
   "metadata": {},
   "outputs": [
    {
     "data": {
      "text/plain": [
       "1"
      ]
     },
     "execution_count": 56,
     "metadata": {},
     "output_type": "execute_result"
    }
   ],
   "source": [
    "dic_food['onion'] = 1\n",
    "dic_food['onion']"
   ]
  },
  {
   "cell_type": "markdown",
   "metadata": {},
   "source": [
    "#### c. Make the same dictionary from the lists: "
   ]
  },
  {
   "cell_type": "code",
   "execution_count": null,
   "metadata": {},
   "outputs": [],
   "source": []
  },
  {
   "cell_type": "code",
   "execution_count": null,
   "metadata": {},
   "outputs": [],
   "source": []
  },
  {
   "cell_type": "markdown",
   "metadata": {},
   "source": [
    "#### d. What will happened if we have duplicates in the list of keys?"
   ]
  },
  {
   "cell_type": "code",
   "execution_count": null,
   "metadata": {},
   "outputs": [],
   "source": []
  },
  {
   "cell_type": "code",
   "execution_count": null,
   "metadata": {},
   "outputs": [],
   "source": []
  },
  {
   "cell_type": "code",
   "execution_count": null,
   "metadata": {},
   "outputs": [],
   "source": []
  },
  {
   "cell_type": "markdown",
   "metadata": {},
   "source": [
    "## Exercise (func absolute value)"
   ]
  },
  {
   "cell_type": "markdown",
   "metadata": {},
   "source": [
    "1) In this exercise, define a function that returns an absolute value of number.\n",
    "   1) test on a number\n",
    "   2) test on an array\n",
    "2) Modify the function it returns absolute value and states whether the number was positive or negative.\n",
    "3) Make the return object of nice type."
   ]
  },
  {
   "cell_type": "code",
   "execution_count": null,
   "metadata": {},
   "outputs": [],
   "source": []
  },
  {
   "cell_type": "code",
   "execution_count": null,
   "metadata": {},
   "outputs": [],
   "source": []
  },
  {
   "cell_type": "code",
   "execution_count": null,
   "metadata": {},
   "outputs": [],
   "source": []
  },
  {
   "cell_type": "code",
   "execution_count": null,
   "metadata": {},
   "outputs": [],
   "source": []
  },
  {
   "cell_type": "code",
   "execution_count": null,
   "metadata": {},
   "outputs": [],
   "source": []
  },
  {
   "cell_type": "code",
   "execution_count": null,
   "metadata": {},
   "outputs": [],
   "source": []
  },
  {
   "cell_type": "code",
   "execution_count": null,
   "metadata": {},
   "outputs": [],
   "source": []
  },
  {
   "cell_type": "markdown",
   "metadata": {},
   "source": [
    "--- Sets vs lists"
   ]
  },
  {
   "cell_type": "markdown",
   "metadata": {},
   "source": [
    "### Exercise: Unique Elements Finder\n",
    "Write a function `unique_elements(lst)` that takes a list of numbers and returns a new list with only the unique elements from the original list (i.e., removing duplicates).\n",
    "You can use a loop or list comprehension for this exercise.\n"
   ]
  },
  {
   "cell_type": "code",
   "execution_count": null,
   "metadata": {},
   "outputs": [],
   "source": []
  },
  {
   "cell_type": "code",
   "execution_count": null,
   "metadata": {},
   "outputs": [],
   "source": []
  },
  {
   "cell_type": "code",
   "execution_count": null,
   "metadata": {},
   "outputs": [],
   "source": []
  },
  {
   "cell_type": "code",
   "execution_count": null,
   "metadata": {},
   "outputs": [],
   "source": []
  },
  {
   "cell_type": "code",
   "execution_count": null,
   "metadata": {},
   "outputs": [],
   "source": []
  },
  {
   "cell_type": "code",
   "execution_count": null,
   "metadata": {},
   "outputs": [],
   "source": []
  },
  {
   "cell_type": "code",
   "execution_count": null,
   "metadata": {},
   "outputs": [],
   "source": []
  },
  {
   "cell_type": "markdown",
   "metadata": {},
   "source": [
    "### Exercise: Text Analyzer\n",
    "Write a function `analyze_text` that takes a string and returns:\n",
    "1. Number of words.\n",
    "2. Number of vowels.\n",
    "3. Whether the string contains the word 'Python' (case insensitive).\n"
   ]
  },
  {
   "cell_type": "code",
   "execution_count": 68,
   "metadata": {},
   "outputs": [],
   "source": [
    "def analyze_text(text):\n",
    "    vowels = 'AEIYOUaeiyou'\n",
    "    word_count = len(text.split())\n",
    "    vowel_count = 0\n",
    "    for i in text:\n",
    "        if i in vowels:\n",
    "            vowel_count += 1\n",
    "        else:\n",
    "            vowel_count += 0\n",
    "    contains_python = 'python' in text.lower()\n",
    "    print(f'It has {vowel_count} vowels')    \n",
    "    print(f'It has {word_count} words')    \n",
    "    if contains_python == True:\n",
    "        print('It contains Python')\n",
    "    else:\n",
    "        print('It does not')"
   ]
  },
  {
   "cell_type": "code",
   "execution_count": 69,
   "metadata": {},
   "outputs": [
    {
     "name": "stdout",
     "output_type": "stream",
     "text": [
      "It has 8 vowels\n",
      "It has 4 words\n",
      "It contains Python\n"
     ]
    }
   ],
   "source": [
    "analyze_text('Tyvole co je Pythone')"
   ]
  },
  {
   "cell_type": "markdown",
   "metadata": {},
   "source": [
    "### Exercise: Prime Number Checker\n",
    "Write a function `is_prime(n)` that returns `True` if the number `n` is prime and `False` otherwise.\n",
    "\n",
    "Optional: Write a function that prints all prime numbers between 1 and 100.\n"
   ]
  },
  {
   "cell_type": "code",
   "execution_count": 73,
   "metadata": {},
   "outputs": [],
   "source": [
    "def is_prime(n):\n",
    "    if n < 2:\n",
    "        return False\n",
    "    for i in range(2, int(n ** 0.5) + 1):\n",
    "        if n % i == 0:\n",
    "            return False\n",
    "    return True\n",
    "\n",
    "\n",
    "\n",
    "# Optional extension: Print all prime numbers between 1 and 100\n",
    "def print_primes_up_to_100():\n",
    "    for num in range(1, 101):\n",
    "        if is_prime(num):\n",
    "            print(num, end=' ')"
   ]
  },
  {
   "cell_type": "code",
   "execution_count": null,
   "metadata": {},
   "outputs": [
    {
     "name": "stdout",
     "output_type": "stream",
     "text": [
      "7 is not prime\n"
     ]
    }
   ],
   "source": []
  },
  {
   "cell_type": "code",
   "execution_count": null,
   "metadata": {},
   "outputs": [],
   "source": []
  },
  {
   "cell_type": "markdown",
   "metadata": {},
   "source": [
    "### Exercise : Number Guessing Game (input and loop exercise)\n",
    "\n",
    "Write a simple number guessing game where:\n",
    "1. The program picks a random number between 1 and 100 (hardcoded).\n",
    "2. Ask the user to guess the number.\n",
    "3. The program gives feedback if the guess is too high or too low.\n",
    "4. Allow the user to keep guessing until they get it right.\n",
    "5. Print how many attempts it took to guess correctly.\n"
   ]
  },
  {
   "cell_type": "code",
   "execution_count": null,
   "metadata": {},
   "outputs": [],
   "source": [
    "# Solution\n",
    "def number_guessing_game():\n",
    "    number = 45  # Hardcoded for simplicity\n",
    "    attempts = 0\n",
    "    while True:\n",
    "        guess = int(input(\"Guess the number (between 1 and 100): \"))\n",
    "        attempts += 1\n",
    "        if guess < number:\n",
    "            print(\"Too low!\")\n",
    "        elif guess > number:\n",
    "            print(\"Too high!\")\n",
    "        else:\n",
    "            print(f\"Congratulations! You guessed the number in {attempts} attempts.\")\n",
    "            break\n",
    "\n",
    "# number_guessing_game()  # Uncomment to play"
   ]
  },
  {
   "cell_type": "code",
   "execution_count": null,
   "metadata": {},
   "outputs": [],
   "source": [
    "# number_guessing_game()"
   ]
  },
  {
   "cell_type": "markdown",
   "metadata": {},
   "source": [
    "### Exercise: List Manipulation\n",
    "Write a function `list_operations(lst)` that returns a dictionary with:\n",
    "- 'min': the smallest number\n",
    "- 'max': the largest number\n",
    "- 'sum': the sum of numbers\n",
    "- 'average': the average of numbers (rounded to 2 decimals)\n"
   ]
  },
  {
   "cell_type": "code",
   "execution_count": 74,
   "metadata": {},
   "outputs": [],
   "source": [
    "# Solution to Exercise 4\n",
    "def list_operations(lst):\n",
    "    result = {\n",
    "        'min': min(lst),\n",
    "        'max': max(lst),\n",
    "        'sum': sum(lst),\n",
    "        'average': round(sum(lst) / len(lst), 2)\n",
    "    }\n",
    "    return result\n",
    "\n",
    "# Example:\n",
    "# print(list_operations([10, 25, 33, 47, 2, 8]))\n"
   ]
  },
  {
   "cell_type": "code",
   "execution_count": 75,
   "metadata": {},
   "outputs": [
    {
     "name": "stdout",
     "output_type": "stream",
     "text": [
      "{'min': 2, 'max': 47, 'sum': 125, 'average': 20.83}\n"
     ]
    }
   ],
   "source": [
    "print(list_operations([10, 25, 33, 47, 2, 8]))"
   ]
  },
  {
   "cell_type": "code",
   "execution_count": 76,
   "metadata": {},
   "outputs": [
    {
     "data": {
      "text/plain": [
       "list"
      ]
     },
     "execution_count": 76,
     "metadata": {},
     "output_type": "execute_result"
    }
   ],
   "source": [
    "type([])"
   ]
  },
  {
   "cell_type": "markdown",
   "metadata": {},
   "source": [
    "### Exercise: Factorial using Recursion\n",
    "Write a recursive function `factorial(n)` that returns the factorial of a number `n`.\n",
    "For example, `factorial(5)` should return `120` because `5! = 5 * 4 * 3 * 2 * 1 = 120`.\n"
   ]
  },
  {
   "cell_type": "code",
   "execution_count": 82,
   "metadata": {},
   "outputs": [],
   "source": [
    "import math\n",
    "\n",
    "def factorial(n):\n",
    "    numbers = range(1,n+1)\n",
    "    result = math.prod(numbers)\n",
    "    print(result)"
   ]
  },
  {
   "cell_type": "code",
   "execution_count": 86,
   "metadata": {},
   "outputs": [
    {
     "name": "stdout",
     "output_type": "stream",
     "text": [
      "720\n"
     ]
    }
   ],
   "source": [
    "factorial(6)"
   ]
  },
  {
   "cell_type": "code",
   "execution_count": 98,
   "metadata": {},
   "outputs": [],
   "source": [
    "## lepsi verze\n",
    "\n",
    "def factorial2(n):\n",
    "    if n == 0 or n == 1:\n",
    "        return 1\n",
    "    else:\n",
    "        return n * factorial2(n-1)\n"
   ]
  },
  {
   "cell_type": "code",
   "execution_count": 99,
   "metadata": {},
   "outputs": [
    {
     "data": {
      "text/plain": [
       "120"
      ]
     },
     "execution_count": 99,
     "metadata": {},
     "output_type": "execute_result"
    }
   ],
   "source": [
    "factorial2(5)"
   ]
  },
  {
   "cell_type": "markdown",
   "metadata": {},
   "source": [
    "### Classes (basics)"
   ]
  },
  {
   "cell_type": "markdown",
   "metadata": {},
   "source": [
    "A class is a blueprint for creating objects (a specific instance of the class). Classes allow you to bundle data (`attributes`) and functions (`methods`) together into a single entity. \n",
    "This is a core part of Object-Oriented Programming (OOP), which allows you to model real-world entities using objects in your code.\n",
    "\n",
    "\n",
    "A class defines a structure that describes how its objects (or instances) will behave and what data they will contain. \n",
    "When you create an object from a class, it’s called an instance of that class.\n",
    "\n",
    "Think of a class as a template, and an object as something built from that template.\n",
    "\n",
    "Key Concepts in Classes\n",
    "\n",
    "- Class: The blueprint or template for creating objects.\n",
    "- Object: An instance of a class.\n",
    "- Attributes: Variables that store data inside an object.\n",
    "- Methods: Functions that define the behavior of an object. They can interact with the object’s attributes.\n",
    "\n",
    "Defining a Class in Python\n",
    "Here’s a simple class definition:"
   ]
  },
  {
   "cell_type": "code",
   "execution_count": 100,
   "metadata": {},
   "outputs": [],
   "source": [
    "class Dog:\n",
    "    # This is the constructor method, called when a new object is created\n",
    "    def __init__(self, name, breed):\n",
    "        # The attributes of the class, initialized in the constructor\n",
    "        self.name = name\n",
    "        self.breed = breed\n",
    "\n",
    "    # This is a method that belongs to the class\n",
    "    def bark(self):\n",
    "        return f\"{self.name} says Woof!\""
   ]
  },
  {
   "cell_type": "markdown",
   "metadata": {},
   "source": [
    "What does it mean:\n",
    "\n",
    "1. `class Dog:`: This defines a class named Dog.\n",
    "2. `__init__(self, ...)`: This is a special method called the constructor. It runs when a new object is created. The __init__ method initializes the object with attributes (name and breed in this case).\n",
    "    - `self` refers to the instance of the class (the object). It is always the first parameter of methods in a class and allows access to attributes and methods of the object.\n",
    "3. Attributes: Inside the `__init__` method, `self.name` and `self.breed` are attributes that hold information about the object. Each Dog object will have its own name and breed.\n",
    "4. Methods: The class contains a method called `bark`, which returns a string. Methods are functions defined within a class and can perform actions using the object’s data."
   ]
  },
  {
   "cell_type": "code",
   "execution_count": 101,
   "metadata": {},
   "outputs": [],
   "source": [
    "# Creating objects (instances) of the class\n",
    "my_dog = Dog(\"Buddy\", \"Golden Retriever\")\n",
    "your_dog = Dog(\"Max\", \"Bulldog\")"
   ]
  },
  {
   "cell_type": "code",
   "execution_count": 102,
   "metadata": {},
   "outputs": [
    {
     "name": "stdout",
     "output_type": "stream",
     "text": [
      "Buddy\n",
      "Bulldog\n"
     ]
    }
   ],
   "source": [
    "# Accessing the attributes\n",
    "print(my_dog.name)  # Output: Buddy\n",
    "print(your_dog.breed)  # Output: Bulldog"
   ]
  },
  {
   "cell_type": "code",
   "execution_count": 104,
   "metadata": {},
   "outputs": [
    {
     "name": "stdout",
     "output_type": "stream",
     "text": [
      "Buddy says Woof!\n",
      "Max says Woof!\n"
     ]
    }
   ],
   "source": [
    "# Calling methods\n",
    "print(my_dog.bark())  # Output: Buddy says Woof!\n",
    "print(your_dog.bark())  # Output: Max says Woof!"
   ]
  },
  {
   "cell_type": "markdown",
   "metadata": {},
   "source": [
    "Important Concepts in Python Classes:\n",
    "\n",
    "Attributes:\n",
    " - Attributes are variables that belong to a class or instance. There are two types of attributes:\n",
    "    - Instance attributes: Specific to the object (e.g., self.name in the example above).\n",
    "    - Class attributes: Shared across all instances of the class."
   ]
  },
  {
   "cell_type": "code",
   "execution_count": 105,
   "metadata": {},
   "outputs": [],
   "source": [
    "# Example of a class attribute:\n",
    "class Dog:\n",
    "    species = \"Canis familiaris\"  # Class attribute, shared by all dogs\n",
    "\n",
    "    def __init__(self, name, breed):\n",
    "        self.name = name  # Instance attribute\n",
    "        self.breed = breed"
   ]
  },
  {
   "cell_type": "code",
   "execution_count": 106,
   "metadata": {},
   "outputs": [
    {
     "name": "stdout",
     "output_type": "stream",
     "text": [
      "Canis familiaris\n",
      "Canis familiaris\n"
     ]
    }
   ],
   "source": [
    "# All objects of Dog will have the same species, but each one can have different name and breed.\n",
    "my_dog = Dog(\"Buddy\", \"Golden Retriever\")\n",
    "your_dog = Dog(\"Max\", \"Bulldog\")\n",
    "\n",
    "print(my_dog.species)  # Output: Canis familiaris\n",
    "print(your_dog.species)  # Output: Canis familiaris"
   ]
  },
  {
   "cell_type": "markdown",
   "metadata": {},
   "source": [
    "Methods:\n",
    " - Methods are functions that are defined inside a class and operate on instances of the class. The first argument of every method is self, which refers to the instance.\n",
    " - Methods can interact with the instance’s attributes or do other things:"
   ]
  },
  {
   "cell_type": "code",
   "execution_count": 107,
   "metadata": {},
   "outputs": [
    {
     "name": "stdout",
     "output_type": "stream",
     "text": [
      "Buddy is barking!\n",
      "35\n"
     ]
    }
   ],
   "source": [
    "class Dog:\n",
    "    def __init__(self, name, age):\n",
    "        self.name = name\n",
    "        self.age = age\n",
    "\n",
    "    def bark(self):\n",
    "        print(f\"{self.name} is barking!\")\n",
    "\n",
    "    def get_age_in_dog_years(self):\n",
    "        return self.age * 7\n",
    "\n",
    "my_dog = Dog(\"Buddy\", 5)\n",
    "my_dog.bark()  # Output: Buddy is barking!\n",
    "\n",
    "print(my_dog.get_age_in_dog_years())  # Output: 35"
   ]
  },
  {
   "cell_type": "markdown",
   "metadata": {},
   "source": [
    "self:\n",
    "- The keyword self represents the instance of the class. It is used to access variables and methods associated with the instance.\n",
    "- When you call my_dog.bark(), Python automatically passes my_dog as the first argument (self) to the bark()method.\n",
    "\n"
   ]
  },
  {
   "cell_type": "code",
   "execution_count": 108,
   "metadata": {},
   "outputs": [
    {
     "name": "stdout",
     "output_type": "stream",
     "text": [
      "Alex is barking!\n"
     ]
    }
   ],
   "source": [
    "Dog(\"Alex\", 3).bark()"
   ]
  }
 ],
 "metadata": {
  "kernelspec": {
   "display_name": "base",
   "language": "python",
   "name": "python3"
  },
  "language_info": {
   "codemirror_mode": {
    "name": "ipython",
    "version": 3
   },
   "file_extension": ".py",
   "mimetype": "text/x-python",
   "name": "python",
   "nbconvert_exporter": "python",
   "pygments_lexer": "ipython3",
   "version": "3.12.3"
  }
 },
 "nbformat": 4,
 "nbformat_minor": 2
}
